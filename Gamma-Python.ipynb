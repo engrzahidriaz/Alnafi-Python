{
 "cells": [
  {
   "cell_type": "code",
   "execution_count": 3,
   "metadata": {},
   "outputs": [
    {
     "name": "stdout",
     "output_type": "stream",
     "text": [
      "what is your name:Zahid\n",
      "who old are you:32\n",
      "Zahid will be 100 years old in the year 2089\n"
     ]
    }
   ],
   "source": [
    "name = input('what is your name:')\n",
    "age = int(input('who old are you:'))\n",
    "year = str((2021 - age)+100)\n",
    "print(name + \" will be 100 years old in the year \" + year)"
   ]
  },
  {
   "cell_type": "code",
   "execution_count": 8,
   "metadata": {},
   "outputs": [
    {
     "name": "stdout",
     "output_type": "stream",
     "text": [
      "Enter a number: 6\n",
      "You picked an even number.\n"
     ]
    }
   ],
   "source": [
    "num = int(input(\"Enter a number: \"))\n",
    "mod = num % 2\n",
    "if mod > 0:\n",
    "    print(\"You picked an odd number.\")\n",
    "else:\n",
    "    print(\"You picked an even number.\")"
   ]
  },
  {
   "cell_type": "code",
   "execution_count": 29,
   "metadata": {},
   "outputs": [
    {
     "name": "stdout",
     "output_type": "stream",
     "text": [
      "1 , 1 , 2 , 3 , "
     ]
    }
   ],
   "source": [
    "a = [1, 1, 2, 3, 5, 8, 13, 21, 34, 55, 89]\n",
    "for i in a:\n",
    "    if i<5:\n",
    "        print(i, end=' , ')"
   ]
  },
  {
   "cell_type": "code",
   "execution_count": 19,
   "metadata": {},
   "outputs": [
    {
     "name": "stdout",
     "output_type": "stream",
     "text": [
      "3,6,9,12,15,18,21,24,27,30,33,36,39,42,45,48,"
     ]
    }
   ],
   "source": [
    "for i in range(3,50):\n",
    "    if i%3 == 0:\n",
    "        print(i, end=' , ')"
   ]
  },
  {
   "cell_type": "code",
   "execution_count": 28,
   "metadata": {},
   "outputs": [
    {
     "name": "stdout",
     "output_type": "stream",
     "text": [
      "enter the number to divide:4\n",
      "4, 8, 12, 16, 20, 24, 28, 32, 36, 40, 44, 48, "
     ]
    }
   ],
   "source": [
    "num = int(input('enter the number to divide:'))\n",
    "for i in range(3,50):\n",
    "    if i%num == 0:\n",
    "        print(i, end=' , ')"
   ]
  },
  {
   "cell_type": "code",
   "execution_count": 27,
   "metadata": {},
   "outputs": [
    {
     "name": "stdout",
     "output_type": "stream",
     "text": [
      "1 , 1 , 2 , 3 , 5 , 8 , 13 , "
     ]
    }
   ],
   "source": [
    "a = [1, 1, 2, 3, 5, 8, 13, 21, 34, 55, 89]\n",
    "b = [1, 2, 3, 4, 5, 6, 7, 8, 9, 10, 11, 12, 13]\n",
    "for i in a:\n",
    "    if i in b:\n",
    "        print(i, end=' , ')"
   ]
  },
  {
   "cell_type": "code",
   "execution_count": 31,
   "metadata": {},
   "outputs": [
    {
     "name": "stdout",
     "output_type": "stream",
     "text": [
      "Please enter a word:zahid\n",
      "dihaz\n",
      "This word is not a palindrome\n"
     ]
    }
   ],
   "source": [
    "# palindome (naman)\n",
    "word = input(\"Please enter a word:\")\n",
    "reverse_word = word[::-1]\n",
    "print(reverse_word)\n",
    "if word == reverse_word:\n",
    "    print(\"This word is a palindrome\")\n",
    "else:\n",
    "    print(\"This word is not a palindrome\")"
   ]
  },
  {
   "cell_type": "code",
   "execution_count": 34,
   "metadata": {},
   "outputs": [
    {
     "data": {
      "text/plain": [
       "[4, 16, 36, 64, 100]"
      ]
     },
     "execution_count": 34,
     "metadata": {},
     "output_type": "execute_result"
    }
   ],
   "source": [
    "a = [1, 4, 9, 16, 25, 36, 49, 64, 81, 100]\n",
    "b = [element for element in a if element % 2 == 0]\n",
    "b"
   ]
  },
  {
   "cell_type": "code",
   "execution_count": 1,
   "metadata": {},
   "outputs": [
    {
     "name": "stdout",
     "output_type": "stream",
     "text": [
      "What's your name?zahid\n",
      "And your name?amjad\n",
      "zahid, do yo want to choose rock, paper or scissors?paper\n",
      "amjad, do you want to choose rock, paper or scissors?scissors\n",
      "Scissors win!\n"
     ]
    }
   ],
   "source": [
    "user1 = input(\"What's your name?\")\n",
    "user2 = input(\"And your name?\")\n",
    "user1_answer = input(\"%s, do yo want to choose rock, paper or scissors?\" % user1)\n",
    "user2_answer = input(\"%s, do you want to choose rock, paper or scissors?\" % user2)\n",
    "\n",
    "def compare(u1, u2):\n",
    "    if u1 == u2:\n",
    "        return(\"It's a tie!\")\n",
    "    elif u1 == 'rock':\n",
    "        if u2 == 'scissors':\n",
    "            return(\"Rock wins!\")\n",
    "        else:\n",
    "            return(\"Paper wins!\")\n",
    "    elif u1 == 'scissors':\n",
    "        if u2 == 'paper':\n",
    "            return(\"Scissors win!\")\n",
    "        else:\n",
    "            return(\"Rock wins!\")\n",
    "    elif u1 == 'paper':\n",
    "        if u2 == 'rock':\n",
    "            return(\"Paper wins!\")\n",
    "        else:\n",
    "            return(\"Scissors win!\")\n",
    "    else:\n",
    "        return(\"Invalid input! You have not entered rock, paper or scissors, try again.\")\n",
    "        sys.exit()\n",
    "\n",
    "print(compare(user1_answer, user2_answer))"
   ]
  },
  {
   "cell_type": "code",
   "execution_count": 1,
   "metadata": {},
   "outputs": [
    {
     "name": "stdout",
     "output_type": "stream",
     "text": [
      "What's your guess?4\n",
      "Too low!\n",
      "What's your guess?5\n",
      "Too low!\n",
      "What's your guess?7\n",
      "You got it!\n",
      "And it only took you 3 tries!\n"
     ]
    }
   ],
   "source": [
    "import random\n",
    "\n",
    "number = random.randint(1,9)\n",
    "guess = 0\n",
    "count = 0\n",
    "\n",
    "while guess != number and guess != \"exit\":\n",
    "    guess = input(\"What's your guess?\")\n",
    "    \n",
    "    if guess == \"exit\":\n",
    "        break\n",
    "    \n",
    "    guess = int(guess)\n",
    "    count += 1\n",
    "    \n",
    "    if guess < number:\n",
    "        print(\"Too low!\")\n",
    "    elif guess > number:\n",
    "        print(\"Too high!\")\n",
    "    else:\n",
    "        print(\"You got it!\")\n",
    "        print(\"And it only took you\",count,\"tries!\")"
   ]
  },
  {
   "cell_type": "code",
   "execution_count": 5,
   "metadata": {},
   "outputs": [
    {
     "name": "stdout",
     "output_type": "stream",
     "text": [
      "guess number between 0 to 2010\n",
      "Too High\n",
      "guess again: 5\n",
      "Too Low\n",
      "guess again: 7\n",
      "Too Low\n",
      "guess again: 8\n",
      "Too Low\n",
      "guess again: 9\n",
      "you win and guessed the number 5 time\n"
     ]
    }
   ],
   "source": [
    "import random\n",
    "\n",
    "winning_number = random.randint(1,20)\n",
    "guess = 1\n",
    "number = int(input('guess number between 0 to 20'))\n",
    "game_over = False\n",
    "\n",
    "while not game_over:\n",
    "    if number == winning_number:\n",
    "        print(f'you win and guessed the number {guess} time')\n",
    "        game_over = True\n",
    "    else:\n",
    "        if number < winning_number:\n",
    "            print('Too Low')\n",
    "            guess += 1\n",
    "            number = int(input('guess again: '))\n",
    "        else:\n",
    "            print('Too High')\n",
    "            guess += 1\n",
    "            number = int(input('guess again: '))"
   ]
  },
  {
   "cell_type": "code",
   "execution_count": 8,
   "metadata": {},
   "outputs": [
    {
     "name": "stdout",
     "output_type": "stream",
     "text": [
      "abcdefghijklmnopqrstuvwxyzABCDEFGHIJKLMNOPQRSTUVWXYZ\n",
      "0123456789\n",
      "!\"#$%&'()*+,-./:;<=>?@[\\]^_`{|}~\n"
     ]
    }
   ],
   "source": [
    "import string\n",
    "import random\n",
    "\n",
    "LETTERS = string.ascii_letters\n",
    "NUMBERS = string.digits  \n",
    "PUNCTUATION = string.punctuation    \n",
    "\n",
    "print( LETTERS )\n",
    "print( NUMBERS )\n",
    "print( PUNCTUATION )\n",
    "\n",
    "def get_password_length():\n",
    "    '''\n",
    "      Retrieves the length of a password\n",
    "      :returns number <class 'int'>\n",
    "    '''\n",
    "    length = input(\"How long do you want your password: \")\n",
    "    return int(length)\n"
   ]
  },
  {
   "cell_type": "code",
   "execution_count": 13,
   "metadata": {},
   "outputs": [
    {
     "ename": "SyntaxError",
     "evalue": "invalid syntax (<ipython-input-13-4ebe86c3bab9>, line 32)",
     "output_type": "error",
     "traceback": [
      "\u001b[1;36m  File \u001b[1;32m\"<ipython-input-13-4ebe86c3bab9>\"\u001b[1;36m, line \u001b[1;32m32\u001b[0m\n\u001b[1;33m    except ValueError:\u001b[0m\n\u001b[1;37m    ^\u001b[0m\n\u001b[1;31mSyntaxError\u001b[0m\u001b[1;31m:\u001b[0m invalid syntax\n"
     ]
    }
   ],
   "source": [
    "\n",
    "\n",
    "from string import ascii_lowercase\n",
    "from words import get_random_word\n",
    " \n",
    " \n",
    "def get_num_attempts():\n",
    "    \"\"\"Get user-inputted number of incorrect attempts for the game.\"\"\"\n",
    "    while True:\n",
    "        num_attempts = input(\n",
    "            'How many incorrect attempts do you want? [1-25] ')\n",
    "        try:\n",
    "            num_attempts = int(num_attempts)\n",
    "            if 1 <= num_attempts <= 25:\n",
    "                return num_attempts\n",
    "            else:\n",
    "                print('{0} is not between 1 and 25'.format(num_attempts))\n",
    "        except ValueError:\n",
    "            print('{0} is not an integer between 1 and 25'.format(\n",
    "                num_attempts))\n",
    " \n",
    " \n",
    "def get_min_word_length():\n",
    "    \"\"\"Get user-inputted minimum word length for the game.\"\"\"\n",
    "    while True:\n",
    "        min_word_length = input(\n",
    "            'What minimum word length do you want? [4-16] ')\n",
    "        try:\n",
    "            min_word_length = int(min_word_length)\n",
    "            if 4 <= min_word_length <= 16:                 \n",
    "                return min_word_length            \n",
    "            else:                 \n",
    "                print('{0} is not between 4 and 16'.format(min_word_length))         \n",
    "                except ValueError:             \n",
    "                    print('{0} is not an integer between 4 and 16'.format(min_word_length)) \n",
    "                    def get_display_word(word, idxs):     \"\"\"Get the word suitable for display.\"\"\"    \n",
    "                        if len(word) != len(idxs):         \n",
    "                            raise ValueError('Word length and indices length are not the same')     \n",
    "                            displayed_word = ''.join([letter if idxs[i] else '*' for i, letter in enumerate(word)])     \n",
    "                            return displayed_word.strip() \n",
    "                        def get_next_letter(remaining_letters):     \"\"\"Get the user-inputted next letter.\"\"\"     \n",
    "                            if len(remaining_letters) == 0:         \n",
    "                                raise ValueError('There are no remaining letters')     \n",
    "                                while True:         \n",
    "                                    next_letter = input('Choose the next letter: ').lower()         \n",
    "                                    if len(next_letter) != 1:             \n",
    "                                        print('{0} is not a single character'.format(next_letter))         \n",
    "                                        elif next_letter not in ascii_lowercase:             \n",
    "                                            print('{0} is not a letter'.format(next_letter))         \n",
    "                                            elif next_letter not in remaining_letters:             \n",
    "                                                print('{0} has been guessed before'.format(next_letter))         \n",
    "                                                else:             remaining_letters.remove(next_letter)             \n",
    "                                                    return next_letter def play_hangman():     \n",
    "                                                    \"\"\"Play a game of hangman.     At the end of the game, returns if the player wants to retry.     \"\"\"     \n",
    "                                                    # Let player specify difficulty     \n",
    "                                                    print('Starting a game of Hangman...')     \n",
    "                                                    attempts_remaining = get_num_attempts()     \n",
    "                                                    min_word_length = get_min_word_length()     \n",
    "                                                    # Randomly select a word     \n",
    "                                                    print('Selecting a word...')     \n",
    "                                                    word = get_random_word(min_word_length)     \n",
    "                                                    print()     \n",
    "                                                    # Initialize game state variables     \n",
    "                                                    idxs = [letter not in ascii_lowercase for letter in word]     \n",
    "                                                    remaining_letters = set(ascii_lowercase)     \n",
    "                                                    wrong_letters = []     \n",
    "                                                    word_solved = False     \n",
    "                                                    # Main game loop     while attempts_remaining > 0 and not word_solved:\n",
    "        # Print current game state\n",
    "        print('Word: {0}'.format(get_display_word(word, idxs)))\n",
    "        print('Attempts Remaining: {0}'.format(attempts_remaining))\n",
    "        print('Previous Guesses: {0}'.format(' '.join(wrong_letters)))\n",
    " \n",
    "        # Get player's next letter guess\n",
    "        next_letter = get_next_letter(remaining_letters)\n",
    " \n",
    "        # Check if letter guess is in word\n",
    "        if next_letter in word:\n",
    "            # Guessed correctly\n",
    "            print('{0} is in the word!'.format(next_letter))\n",
    " \n",
    "            # Reveal matching letters\n",
    "            for i in range(len(word)):\n",
    "                if word[i] == next_letter:\n",
    "                    idxs[i] = True\n",
    "        else:\n",
    "            # Guessed incorrectly\n",
    "            print('{0} is NOT in the word!'.format(next_letter))\n",
    " \n",
    "            # Decrement num of attempts left and append guess to wrong guesses\n",
    "            attempts_remaining -= 1\n",
    "            wrong_letters.append(next_letter)\n",
    " \n",
    "        # Check if word is completely solved\n",
    "        if False not in idxs:\n",
    "            word_solved = True\n",
    "        print()\n",
    " \n",
    "    # The game is over: reveal the word\n",
    "    print('The word is {0}'.format(word))\n",
    " \n",
    "    # Notify player of victory or defeat\n",
    "    if word_solved:\n",
    "        print('Congratulations! You won!')\n",
    "    else:\n",
    "        print('Try again next time!')\n",
    " \n",
    "    # Ask player if he/she wants to try again\n",
    "    try_again = input('Would you like to try again? [y/Y] ')\n",
    "    return try_again.lower() == 'y'\n",
    " \n",
    " \n",
    "if __name__ == '__main__':\n",
    "    while play_hangman():\n",
    "        print()"
   ]
  },
  {
   "cell_type": "code",
   "execution_count": null,
   "metadata": {},
   "outputs": [],
   "source": [
    "import random\n",
    "min = 1\n",
    "max = 6\n",
    "\n",
    "roll_again = \"yes\"\n",
    "\n",
    "while roll_again == \"yes\" or roll_again == \"y\":\n",
    "    print (\"Rolling the dices...\")\n",
    "    print (\"The values are....\")\n",
    "    print (random.randint(min, max))\n",
    "    print (random.randint(min, max))\n",
    "\n",
    "    roll_again = input(\"Roll the dices again?\")"
   ]
  },
  {
   "cell_type": "code",
   "execution_count": null,
   "metadata": {},
   "outputs": [],
   "source": []
  },
  {
   "cell_type": "code",
   "execution_count": null,
   "metadata": {},
   "outputs": [],
   "source": []
  }
 ],
 "metadata": {
  "kernelspec": {
   "display_name": "Python 3",
   "language": "python",
   "name": "python3"
  },
  "language_info": {
   "codemirror_mode": {
    "name": "ipython",
    "version": 3
   },
   "file_extension": ".py",
   "mimetype": "text/x-python",
   "name": "python",
   "nbconvert_exporter": "python",
   "pygments_lexer": "ipython3",
   "version": "3.8.5"
  }
 },
 "nbformat": 4,
 "nbformat_minor": 4
}
