{
 "cells": [
  {
   "cell_type": "code",
   "execution_count": 1,
   "metadata": {},
   "outputs": [
    {
     "data": {
      "text/plain": [
       "40"
      ]
     },
     "execution_count": 1,
     "metadata": {},
     "output_type": "execute_result"
    }
   ],
   "source": [
    "ali_coins=20\n",
    "fahad_coins=10\n",
    "abdullah_coins=10\n",
    "ali_coins+fahad_coins+abdullah_coins"
   ]
  },
  {
   "cell_type": "code",
   "execution_count": 2,
   "metadata": {},
   "outputs": [
    {
     "name": "stdout",
     "output_type": "stream",
     "text": [
      "first caliph!!\n"
     ]
    }
   ],
   "source": [
    "abubakr = 'first caliph!!'\n",
    "print(abubakr)"
   ]
  },
  {
   "cell_type": "code",
   "execution_count": 5,
   "metadata": {},
   "outputs": [
    {
     "name": "stdout",
     "output_type": "stream",
     "text": [
      "first caliph!!\n"
     ]
    }
   ],
   "source": [
    "abubakr = \"first caliph!!\"\n",
    "print(abubakr)"
   ]
  },
  {
   "cell_type": "code",
   "execution_count": 8,
   "metadata": {},
   "outputs": [
    {
     "name": "stdout",
     "output_type": "stream",
     "text": [
      "first\n",
      "Righteous\n",
      "calipha!!\n"
     ]
    }
   ],
   "source": [
    "abubakr = '''first\n",
    "Righteous\n",
    "calipha!!'''\n",
    "print(abubakr)"
   ]
  },
  {
   "cell_type": "code",
   "execution_count": 9,
   "metadata": {},
   "outputs": [
    {
     "name": "stdout",
     "output_type": "stream",
     "text": [
      "He said, \"Aren't can't shouldn't wouldn't.\"\n"
     ]
    }
   ],
   "source": [
    "silly_string = '''He said, \"Aren't can't shouldn't wouldn't.\"'''\n",
    "print(silly_string)"
   ]
  },
  {
   "cell_type": "code",
   "execution_count": 10,
   "metadata": {},
   "outputs": [
    {
     "name": "stdout",
     "output_type": "stream",
     "text": [
      "He said, \"Aren't can't shouldn't wouldn't.\"\n"
     ]
    }
   ],
   "source": [
    "silly_string = 'He said, \"Aren\\'t can\\'t shouldn\\'t wouldn\\'t.\"'\n",
    "print(silly_string)"
   ]
  },
  {
   "cell_type": "code",
   "execution_count": 11,
   "metadata": {},
   "outputs": [
    {
     "name": "stdout",
     "output_type": "stream",
     "text": [
      "He said, \"Aren't can't shouldn't wouldn't.\"\n"
     ]
    }
   ],
   "source": [
    "double_quote_str = \"He said, \\\"Aren't can't shouldn't wouldn't.\\\"\"\n",
    "print (double_quote_str)"
   ]
  },
  {
   "cell_type": "code",
   "execution_count": 12,
   "metadata": {},
   "outputs": [
    {
     "name": "stdout",
     "output_type": "stream",
     "text": [
      "I scored 1000 points\n"
     ]
    }
   ],
   "source": [
    "myscore = 1000\n",
    "message = 'I scored %s points'\n",
    "print(message % myscore)"
   ]
  },
  {
   "cell_type": "code",
   "execution_count": 13,
   "metadata": {},
   "outputs": [
    {
     "name": "stdout",
     "output_type": "stream",
     "text": [
      "What did the number 0 say to the number 8? Nice belt!!\n"
     ]
    }
   ],
   "source": [
    "nums = 'What did the number %s say to the number %s? Nice belt!!'\n",
    "print(nums % (0, 8))"
   ]
  },
  {
   "cell_type": "code",
   "execution_count": 14,
   "metadata": {},
   "outputs": [
    {
     "name": "stdout",
     "output_type": "stream",
     "text": [
      "aaaaaaaaaa\n"
     ]
    }
   ],
   "source": [
    "print(10 * 'a')"
   ]
  },
  {
   "cell_type": "code",
   "execution_count": 16,
   "metadata": {},
   "outputs": [
    {
     "name": "stdout",
     "output_type": "stream",
     "text": [
      "                          12 DHA Phase 5\n",
      "                          Clifton\n",
      "                          West Snoring\n",
      "\n",
      "\n",
      "Dear Sir\n",
      "\n",
      "I wish to report that tiles are missing from the\n",
      "outside toilet roof.\n",
      "I think it was bad wind the other night that blew them away.\n",
      "\n",
      "Regards\n",
      "Sharfoo\n"
     ]
    }
   ],
   "source": [
    "spaces = ' ' * 25\n",
    "print('%s 12 DHA Phase 5' % spaces)\n",
    "print('%s Clifton' % spaces)\n",
    "print('%s West Snoring' % spaces)\n",
    "print()\n",
    "print()\n",
    "print('Dear Sir')\n",
    "print()\n",
    "print('I wish to report that tiles are missing from the')\n",
    "print('outside toilet roof.')\n",
    "print('I think it was bad wind the other night that blew them away.')\n",
    "print()\n",
    "print('Regards')\n",
    "print('Sharfoo')"
   ]
  },
  {
   "cell_type": "code",
   "execution_count": 17,
   "metadata": {},
   "outputs": [
    {
     "name": "stdout",
     "output_type": "stream",
     "text": [
      "sabzee, fruit, aloo, chai\n"
     ]
    }
   ],
   "source": [
    "sharfoo_list='sabzee, fruit, aloo, chai'\n",
    "print(sharfoo_list)"
   ]
  },
  {
   "cell_type": "code",
   "execution_count": 21,
   "metadata": {},
   "outputs": [
    {
     "name": "stdout",
     "output_type": "stream",
     "text": [
      "sabzee, fruit, aloo, chai\n"
     ]
    }
   ],
   "source": [
    "sharfoo_list=['sabzee, fruit, aloo, chai']\n",
    "print(sharfoo_list[0])"
   ]
  },
  {
   "cell_type": "code",
   "execution_count": 24,
   "metadata": {},
   "outputs": [
    {
     "name": "stdout",
     "output_type": "stream",
     "text": [
      "['sabzee', 'fruit', 'aloo']\n"
     ]
    }
   ],
   "source": [
    "sharfoo_list=['sabzee', 'fruit', 'aloo', 'chai']\n",
    "print(sharfoo_list[0:3])"
   ]
  },
  {
   "cell_type": "code",
   "execution_count": 26,
   "metadata": {},
   "outputs": [
    {
     "name": "stdout",
     "output_type": "stream",
     "text": [
      "[1, 2, 5, 10, 20]\n"
     ]
    }
   ],
   "source": [
    "some_numbers = [1, 2, 5, 10, 20]\n",
    "print(some_numbers)"
   ]
  },
  {
   "cell_type": "code",
   "execution_count": 27,
   "metadata": {},
   "outputs": [
    {
     "name": "stdout",
     "output_type": "stream",
     "text": [
      "['Why', 'was', 6, 'afraid', 'of', 7, 'because', 7, 8, 9]\n"
     ]
    }
   ],
   "source": [
    "numbers_and_strings = ['Why', 'was', 6, 'afraid', 'of', 7,       \n",
    "'because', 7, 8, 9]\n",
    "print(numbers_and_strings)"
   ]
  },
  {
   "cell_type": "code",
   "execution_count": 30,
   "metadata": {},
   "outputs": [
    {
     "name": "stdout",
     "output_type": "stream",
     "text": [
      "[[1, 2, 3, 4], ['I', 'kicked', 'my', 'toe', 'and', 'it', 'is', 'sore']]\n"
     ]
    }
   ],
   "source": [
    "numbers = [1, 2, 3, 4]\n",
    "strings = ['I', 'kicked', 'my', 'toe', 'and', 'it', 'is', 'sore']\n",
    "mylist = [numbers, strings]\n",
    "print(mylist)"
   ]
  },
  {
   "cell_type": "code",
   "execution_count": 31,
   "metadata": {},
   "outputs": [
    {
     "name": "stdout",
     "output_type": "stream",
     "text": [
      "['spider legs', 'toe of frog', 'eye of newt', 'bat wing', 'slug butter', 'snake dandruff']\n"
     ]
    }
   ],
   "source": [
    "wizard_list = ['spider legs', 'toe of frog', 'eye of newt', 'bat wing', 'slug butter',\n",
    "'snake dandruff']\n",
    "print(wizard_list)"
   ]
  },
  {
   "cell_type": "code",
   "execution_count": 32,
   "metadata": {},
   "outputs": [
    {
     "name": "stdout",
     "output_type": "stream",
     "text": [
      "['spider legs', 'toe of frog', 'eye of newt', 'bat wing', 'slug butter', 'snake dandruff', 'bear burp']\n"
     ]
    }
   ],
   "source": [
    "wizard_list = ['spider legs', 'toe of frog', 'eye of newt', 'bat wing', 'slug butter',\n",
    "'snake dandruff']\n",
    "wizard_list.append('bear burp')\n",
    "print(wizard_list)"
   ]
  },
  {
   "cell_type": "code",
   "execution_count": 34,
   "metadata": {},
   "outputs": [
    {
     "name": "stdout",
     "output_type": "stream",
     "text": [
      "['spider legs', 'toe of frog', 'eye of newt', 'bat wing', 'slug butter', 'bear burp']\n"
     ]
    }
   ],
   "source": [
    "wizard_list = ['spider legs', 'toe of frog', 'eye of newt', 'bat wing', 'slug butter', 'snake dandruff']\n",
    "wizard_list.append('bear burp')\n",
    "del wizard_list [5]\n",
    "print(wizard_list)"
   ]
  },
  {
   "cell_type": "code",
   "execution_count": 35,
   "metadata": {},
   "outputs": [
    {
     "name": "stdout",
     "output_type": "stream",
     "text": [
      "[1, 2, 3, 4, 'I', 'tripped', 'over', 'and', 'hit', 'the', 'floor']\n"
     ]
    }
   ],
   "source": [
    "list1 = [1, 2, 3, 4]\n",
    "list2 = ['I', 'tripped', 'over', 'and', 'hit', 'the', 'floor']\n",
    "print(list1 + list2)"
   ]
  },
  {
   "cell_type": "code",
   "execution_count": 36,
   "metadata": {},
   "outputs": [
    {
     "name": "stdout",
     "output_type": "stream",
     "text": [
      "[1, 2, 1, 2, 1, 2, 1, 2, 1, 2]\n"
     ]
    }
   ],
   "source": [
    "list1 = [1, 2]\n",
    "print(list1 * 5)"
   ]
  },
  {
   "cell_type": "code",
   "execution_count": 37,
   "metadata": {},
   "outputs": [
    {
     "name": "stdout",
     "output_type": "stream",
     "text": [
      "2\n"
     ]
    }
   ],
   "source": [
    "fibs = (0, 1, 1, 2, 3)\n",
    "print(fibs[3])"
   ]
  },
  {
   "cell_type": "code",
   "execution_count": 38,
   "metadata": {},
   "outputs": [
    {
     "name": "stdout",
     "output_type": "stream",
     "text": [
      "['Ali, Football', 'Omer, Basketball', 'Osman, Baseball', 'Abu Bkar, Netball', 'Fatima, Badminton', 'Faizan, Rugby']\n"
     ]
    }
   ],
   "source": [
    "favorite_sports = ['Ali, Football', 'Omer, Basketball', 'Osman, Baseball', \n",
    "'Abu Bkar, Netball', 'Fatima, Badminton', 'Faizan, Rugby']\n",
    "print (favorite_sports)"
   ]
  },
  {
   "cell_type": "code",
   "execution_count": 39,
   "metadata": {},
   "outputs": [
    {
     "name": "stdout",
     "output_type": "stream",
     "text": [
      "{'Ali': 'Football', 'Omer': 'Basketball', 'Osman': 'Baseball', 'Abu Bakr': 'Netball', 'Fatima': 'Badminton', 'Faizan': 'Rugby'}\n"
     ]
    }
   ],
   "source": [
    "favorite_sports = {'Ali' : 'Football',\n",
    "'Omer' : 'Basketball',\n",
    "'Osman' : 'Baseball',\n",
    "'Abu Bakr' : 'Netball',\n",
    "'Fatima' : 'Badminton',\n",
    "'Faizan' : 'Rugby'}\n",
    "print (favorite_sports)"
   ]
  },
  {
   "cell_type": "code",
   "execution_count": 40,
   "metadata": {},
   "outputs": [
    {
     "name": "stdout",
     "output_type": "stream",
     "text": [
      "Football\n"
     ]
    }
   ],
   "source": [
    "favorite_sports = {'Ali' : 'Football',\n",
    "'Omer' : 'Basketball',\n",
    "'Osman' : 'Baseball',\n",
    "'Abu Bakr' : 'Netball',\n",
    "'Fatima' : 'Badminton',\n",
    "'Faizan' : 'Rugby'}\n",
    "print(favorite_sports['Ali'])"
   ]
  },
  {
   "cell_type": "code",
   "execution_count": 41,
   "metadata": {},
   "outputs": [
    {
     "name": "stdout",
     "output_type": "stream",
     "text": [
      "{'Omer': 'Basketball', 'Osman': 'Baseball', 'Abu Bakr': 'Netball', 'Fatima': 'Badminton', 'Faizan': 'Rugby'}\n"
     ]
    }
   ],
   "source": [
    "favorite_sports = {'Ali' : 'Football',\n",
    "'Omer' : 'Basketball',\n",
    "'Osman' : 'Baseball',\n",
    "'Abu Bakr' : 'Netball',\n",
    "'Fatima' : 'Badminton',\n",
    "'Faizan' : 'Rugby'}\n",
    "del favorite_sports['Ali']\n",
    "print(favorite_sports)"
   ]
  },
  {
   "cell_type": "code",
   "execution_count": 42,
   "metadata": {},
   "outputs": [
    {
     "name": "stdout",
     "output_type": "stream",
     "text": [
      "{'Ali': 'Football', 'Omer': 'Basketball', 'Osman': 'Baseball', 'Abu Bakr': 'Netball', 'Fatima': 'Badminton', 'Faizan': 'Cricket'}\n"
     ]
    }
   ],
   "source": [
    "favorite_sports = {'Ali' : 'Football',\n",
    "'Omer' : 'Basketball',\n",
    "'Osman' : 'Baseball',\n",
    "'Abu Bakr' : 'Netball',\n",
    "'Fatima' : 'Badminton',\n",
    "'Faizan' : 'Rugby'}\n",
    "favorite_sports['Faizan'] = 'Cricket'\n",
    "print(favorite_sports)"
   ]
  },
  {
   "cell_type": "code",
   "execution_count": 1,
   "metadata": {},
   "outputs": [
    {
     "name": "stdout",
     "output_type": "stream",
     "text": [
      "you are too old\n"
     ]
    }
   ],
   "source": [
    "# If-else\n",
    "age=32\n",
    "if age > 30:\n",
    "    print('you are too old')"
   ]
  },
  {
   "cell_type": "code",
   "execution_count": 2,
   "metadata": {},
   "outputs": [
    {
     "name": "stdout",
     "output_type": "stream",
     "text": [
      "you are too old\n",
      "you are married man\n",
      "you are well settled\n"
     ]
    }
   ],
   "source": [
    "age=32\n",
    "if age > 30:\n",
    "    print('you are too old')\n",
    "    print('you are married man')\n",
    "    print('you are well settled')"
   ]
  },
  {
   "cell_type": "code",
   "execution_count": 3,
   "metadata": {},
   "outputs": [
    {
     "ename": "IndentationError",
     "evalue": "unexpected indent (<ipython-input-3-86c198df1816>, line 4)",
     "output_type": "error",
     "traceback": [
      "\u001b[1;36m  File \u001b[1;32m\"<ipython-input-3-86c198df1816>\"\u001b[1;36m, line \u001b[1;32m4\u001b[0m\n\u001b[1;33m    print('you are married man')\u001b[0m\n\u001b[1;37m    ^\u001b[0m\n\u001b[1;31mIndentationError\u001b[0m\u001b[1;31m:\u001b[0m unexpected indent\n"
     ]
    }
   ],
   "source": [
    "age=32\n",
    "if age > 30:\n",
    "    print('you are too old')\n",
    "        print('you are married man')\n",
    "            print('you are well settled')"
   ]
  },
  {
   "cell_type": "code",
   "execution_count": 4,
   "metadata": {},
   "outputs": [
    {
     "name": "stdout",
     "output_type": "stream",
     "text": [
      "you are too old\n"
     ]
    }
   ],
   "source": [
    "age = 50\n",
    "if age == 50:\n",
    "    print('you are too old')"
   ]
  },
  {
   "cell_type": "code",
   "execution_count": 5,
   "metadata": {},
   "outputs": [],
   "source": [
    "age = 50\n",
    "if age == 40:\n",
    "    print('you are too old')"
   ]
  },
  {
   "cell_type": "code",
   "execution_count": 6,
   "metadata": {},
   "outputs": [
    {
     "name": "stdout",
     "output_type": "stream",
     "text": [
      "A pig fell in the mud!\n"
     ]
    }
   ],
   "source": [
    "age = 12\n",
    "if age == 12:\n",
    "    print(\"A pig fell in the mud!\")\n",
    "else:\n",
    "    print(\"Shh. It's a secret.\")"
   ]
  },
  {
   "cell_type": "code",
   "execution_count": 7,
   "metadata": {},
   "outputs": [
    {
     "name": "stdout",
     "output_type": "stream",
     "text": [
      "Want to hear a dirty joke?\n",
      "A pig fell in the mud!\n"
     ]
    }
   ],
   "source": [
    "print(\"Want to hear a dirty joke?\")\n",
    "age = 12\n",
    "if age == 12:\n",
    "    print(\"A pig fell in the mud!\")\n",
    "else:\n",
    "    print(\"Shh. It's a secret.\")"
   ]
  },
  {
   "cell_type": "code",
   "execution_count": 8,
   "metadata": {},
   "outputs": [
    {
     "name": "stdout",
     "output_type": "stream",
     "text": [
      "you are young\n"
     ]
    }
   ],
   "source": [
    "hair_color = 'black'\n",
    "if hair_color == 'black':\n",
    "    print('you are young')\n",
    "else:\n",
    "    print('you are old')"
   ]
  },
  {
   "cell_type": "code",
   "execution_count": 9,
   "metadata": {},
   "outputs": [
    {
     "name": "stdout",
     "output_type": "stream",
     "text": [
      "What did 0 say to 8?\n",
      "Hi guys!\n"
     ]
    }
   ],
   "source": [
    "age = 12\n",
    "if age == 10:\n",
    "    print(\"What do you call an unhappy cranberry?\")\n",
    "    print(\"A blueberry!\")\n",
    "elif age == 11:\n",
    "    print(\"What did the green grape say to the blue grape?\")\n",
    "    print(\"Breathe! Breathe!\")\n",
    "elif age == 12:\n",
    "    print(\"What did 0 say to 8?\")\n",
    "    print(\"Hi guys!\")\n",
    "elif age == 13:\n",
    "    print(\"Why wasn't 10 afraid of 7?\")\n",
    "    print(\"Because rather than eating 9, 7 8 pi.\")\n",
    "else:\n",
    "    print(\"Huh?\")"
   ]
  },
  {
   "cell_type": "code",
   "execution_count": 10,
   "metadata": {},
   "outputs": [
    {
     "name": "stdout",
     "output_type": "stream",
     "text": [
      "she is college going girl\n"
     ]
    }
   ],
   "source": [
    "age = 21\n",
    "if age >= 10 and age <= 14:\n",
    "    print('she is child')\n",
    "elif age >= 15 and age <= 19:\n",
    "    print('she is school going child')\n",
    "elif age >= 20 and age <= 24:\n",
    "    print('she is college going girl')\n",
    "elif age >= 25 and age <= 29:\n",
    "    print('she is university going girl')  \n",
    "elif age >= 30 and age <= 35:\n",
    "    print('she is job holder')\n",
    "else:\n",
    "    print('nothing')"
   ]
  },
  {
   "cell_type": "code",
   "execution_count": 11,
   "metadata": {},
   "outputs": [
    {
     "name": "stdout",
     "output_type": "stream",
     "text": [
      "Huh?\n"
     ]
    }
   ],
   "source": [
    "age=15\n",
    "if age == 10 or age == 11 or age == 12 or age == 13:\n",
    "    print('What is 13 + 49 + 84 + 155 + 97? A headache!')\n",
    "else:\n",
    "    print('Huh?')"
   ]
  },
  {
   "cell_type": "code",
   "execution_count": 12,
   "metadata": {},
   "outputs": [
    {
     "name": "stdout",
     "output_type": "stream",
     "text": [
      "The variable myval doesn't have a value\n"
     ]
    }
   ],
   "source": [
    "myval = None\n",
    "if myval == None:\n",
    "    print(\"The variable myval doesn't have a value\")"
   ]
  },
  {
   "cell_type": "code",
   "execution_count": 13,
   "metadata": {},
   "outputs": [
    {
     "name": "stdout",
     "output_type": "stream",
     "text": [
      "Salam\n",
      "Salam\n",
      "Salam\n",
      "Salam\n"
     ]
    }
   ],
   "source": [
    "# loop\n",
    "    print(\"Salam\")\n",
    "    print(\"Salam\")\n",
    "    print(\"Salam\")\n",
    "    print(\"Salam\")"
   ]
  },
  {
   "cell_type": "code",
   "execution_count": 14,
   "metadata": {},
   "outputs": [
    {
     "name": "stdout",
     "output_type": "stream",
     "text": [
      "salam\n",
      "salam\n",
      "salam\n",
      "salam\n"
     ]
    }
   ],
   "source": [
    "print('''salam\n",
    "salam\n",
    "salam\n",
    "salam''')"
   ]
  },
  {
   "cell_type": "code",
   "execution_count": 15,
   "metadata": {},
   "outputs": [
    {
     "name": "stdout",
     "output_type": "stream",
     "text": [
      "salam \n",
      "salam \n",
      "salam \n",
      "salam\n"
     ]
    }
   ],
   "source": [
    "print('''salam \\nsalam \\nsalam \\nsalam''')"
   ]
  },
  {
   "cell_type": "code",
   "execution_count": 16,
   "metadata": {},
   "outputs": [
    {
     "name": "stdout",
     "output_type": "stream",
     "text": [
      "salamsalamsalamsalam\n"
     ]
    }
   ],
   "source": [
    "print('salam'*4)"
   ]
  },
  {
   "cell_type": "code",
   "execution_count": 17,
   "metadata": {},
   "outputs": [
    {
     "name": "stdout",
     "output_type": "stream",
     "text": [
      "salam\n",
      "salam\n",
      "salam\n",
      "salam\n",
      "salam\n"
     ]
    }
   ],
   "source": [
    "for x in range(0, 5):\n",
    "    print('salam')"
   ]
  },
  {
   "cell_type": "code",
   "execution_count": 18,
   "metadata": {},
   "outputs": [
    {
     "name": "stdout",
     "output_type": "stream",
     "text": [
      "I\n",
      "LOVE\n",
      "PAKISTAN\n",
      "I\n",
      "LOVE\n",
      "PAKISTAN\n",
      "I\n",
      "LOVE\n",
      "PAKISTAN\n"
     ]
    }
   ],
   "source": [
    "for x in range (0,3):\n",
    "    print('I')\n",
    "    print('LOVE')\n",
    "    print('PAKISTAN')"
   ]
  },
  {
   "cell_type": "code",
   "execution_count": 19,
   "metadata": {},
   "outputs": [
    {
     "name": "stdout",
     "output_type": "stream",
     "text": [
      "[10, 11, 12, 13, 14, 15, 16, 17, 18, 19]\n"
     ]
    }
   ],
   "source": [
    "print(list(range(10, 20)))"
   ]
  },
  {
   "cell_type": "code",
   "execution_count": 20,
   "metadata": {},
   "outputs": [
    {
     "name": "stdout",
     "output_type": "stream",
     "text": [
      "[1, 2, 3, 4, 5]\n"
     ]
    }
   ],
   "source": [
    "list = [1,2,3,4,5]\n",
    "print(list)"
   ]
  },
  {
   "cell_type": "code",
   "execution_count": 21,
   "metadata": {},
   "outputs": [
    {
     "name": "stdout",
     "output_type": "stream",
     "text": [
      "4\n"
     ]
    }
   ],
   "source": [
    "list = [1,2,3,4,5]\n",
    "print(list[3])"
   ]
  },
  {
   "cell_type": "code",
   "execution_count": 23,
   "metadata": {},
   "outputs": [
    {
     "name": "stdout",
     "output_type": "stream",
     "text": [
      "salam 0\n",
      "salam 1\n",
      "salam 2\n",
      "salam 3\n",
      "salam 4\n"
     ]
    }
   ],
   "source": [
    "for x in range(0, 5):\n",
    "    print('salam %s' %x)"
   ]
  },
  {
   "cell_type": "code",
   "execution_count": 24,
   "metadata": {},
   "outputs": [
    {
     "name": "stdout",
     "output_type": "stream",
     "text": [
      "salam pakistan\n",
      "salam pakistan\n",
      "salam pakistan\n"
     ]
    }
   ],
   "source": [
    "hello = 'pakistan'\n",
    "for x in range(0, 3):\n",
    "    print('salam %s' %hello)"
   ]
  },
  {
   "cell_type": "code",
   "execution_count": 25,
   "metadata": {},
   "outputs": [
    {
     "name": "stdout",
     "output_type": "stream",
     "text": [
      "salam pakistan\n",
      "salam pakistan\n",
      "salam pakistan\n"
     ]
    }
   ],
   "source": [
    "for x in range(0, 3):\n",
    "    print('salam %s' %'pakistan')"
   ]
  },
  {
   "cell_type": "code",
   "execution_count": 26,
   "metadata": {},
   "outputs": [
    {
     "name": "stdout",
     "output_type": "stream",
     "text": [
      "salam 0\n",
      "salam 1\n",
      "salam 2\n",
      "salam 3\n",
      "salam 4\n"
     ]
    }
   ],
   "source": [
    "x = 0\n",
    "print('salam %s' % x)\n",
    "x = 1\n",
    "print('salam %s' % x)\n",
    "x = 2\n",
    "print('salam %s' % x)\n",
    "x = 3\n",
    "print('salam %s' % x)\n",
    "x = 4\n",
    "print('salam %s' % x)"
   ]
  },
  {
   "cell_type": "code",
   "execution_count": 27,
   "metadata": {},
   "outputs": [
    {
     "name": "stdout",
     "output_type": "stream",
     "text": [
      "spider legs\n",
      "toe of frog\n",
      "snail tongue\n",
      "bat wing\n",
      "slug butter\n",
      "bear burp\n"
     ]
    }
   ],
   "source": [
    "wizard_list = ['spider legs','toe of frog', 'snail tongue',\n",
    "'bat wing', 'slug butter', 'bear burp']\n",
    "for i in wizard_list:\n",
    "    print(i)"
   ]
  },
  {
   "cell_type": "code",
   "execution_count": 28,
   "metadata": {},
   "outputs": [
    {
     "name": "stdout",
     "output_type": "stream",
     "text": [
      "1\n",
      "2\n",
      "3\n",
      "4\n",
      "5\n"
     ]
    }
   ],
   "source": [
    "list = 1, 2, 3, 4, 5\n",
    "for n in list:\n",
    "    print(n)"
   ]
  },
  {
   "cell_type": "code",
   "execution_count": 29,
   "metadata": {},
   "outputs": [
    {
     "name": "stdout",
     "output_type": "stream",
     "text": [
      "spider legs\n",
      "toe of frog\n",
      "snail tongue\n",
      "bat wing\n",
      "slug butter\n",
      "bear burp\n"
     ]
    }
   ],
   "source": [
    "wizard_list = ['spider legs', 'toe of frog', 'snail tongue',\n",
    "'bat wing', 'slug butter', 'bear burp']\n",
    "print(wizard_list[0])\n",
    "print(wizard_list[1])\n",
    "print(wizard_list[2])\n",
    "print(wizard_list[3])\n",
    "print(wizard_list[4])\n",
    "print(wizard_list[5])"
   ]
  },
  {
   "cell_type": "code",
   "execution_count": 30,
   "metadata": {},
   "outputs": [
    {
     "name": "stdout",
     "output_type": "stream",
     "text": [
      "huge\n",
      "huge\n",
      "hairy\n",
      "hairy\n",
      "pants\n",
      "pants\n"
     ]
    }
   ],
   "source": [
    "hugehairypants = ['huge', 'hairy', 'pants']\n",
    "for i in hugehairypants:\n",
    "    print(i)\n",
    "    print(i)"
   ]
  },
  {
   "cell_type": "code",
   "execution_count": 31,
   "metadata": {},
   "outputs": [
    {
     "name": "stdout",
     "output_type": "stream",
     "text": [
      "huge\n",
      "hairy\n",
      "pants\n",
      "huge\n",
      "hairy\n",
      "pants\n"
     ]
    }
   ],
   "source": [
    "hugehairypants = ['huge', 'hairy', 'pants']\n",
    "for i in hugehairypants:\n",
    "    print(i)\n",
    "for j in hugehairypants:\n",
    "    print(j)"
   ]
  },
  {
   "cell_type": "code",
   "execution_count": 33,
   "metadata": {},
   "outputs": [
    {
     "name": "stdout",
     "output_type": "stream",
     "text": [
      "abuBakar\n",
      "umar\n",
      "usman\n",
      "ali\n"
     ]
    }
   ],
   "source": [
    "calipha = 'abuBakar','umar','usman','ali'\n",
    "for i in calipha:\n",
    "    print(i)"
   ]
  },
  {
   "cell_type": "code",
   "execution_count": 34,
   "metadata": {},
   "outputs": [
    {
     "name": "stdout",
     "output_type": "stream",
     "text": [
      "abupakar\n",
      "umar\n",
      "usman\n",
      "ali\n",
      "abupakar\n",
      "umar\n",
      "usman\n",
      "ali\n"
     ]
    }
   ],
   "source": [
    "calipha = 'abupakar','umar','usman','ali'\n",
    "for i in calipha:\n",
    "    print(i)\n",
    "for j in calipha:\n",
    "    print(j)"
   ]
  },
  {
   "cell_type": "code",
   "execution_count": 35,
   "metadata": {},
   "outputs": [
    {
     "name": "stdout",
     "output_type": "stream",
     "text": [
      "abupakar\n",
      "abupakar\n",
      "umar\n",
      "usman\n",
      "ali\n",
      "umar\n",
      "abupakar\n",
      "umar\n",
      "usman\n",
      "ali\n",
      "usman\n",
      "abupakar\n",
      "umar\n",
      "usman\n",
      "ali\n",
      "ali\n",
      "abupakar\n",
      "umar\n",
      "usman\n",
      "ali\n"
     ]
    }
   ],
   "source": [
    "calipha = 'abupakar','umar','usman','ali'\n",
    "for i in calipha:\n",
    "    print(i)\n",
    "    for j in calipha:\n",
    "        print(j)"
   ]
  },
  {
   "cell_type": "code",
   "execution_count": 36,
   "metadata": {},
   "outputs": [
    {
     "name": "stdout",
     "output_type": "stream",
     "text": [
      "46 81\n",
      "47 82\n",
      "48 83\n",
      "49 84\n",
      "50 85\n"
     ]
    }
   ],
   "source": [
    "x = 45\n",
    "y = 80\n",
    "while x < 50 and y < 100:\n",
    "    x = x + 1\n",
    "    y = y + 1\n",
    "    print(x, y)"
   ]
  },
  {
   "cell_type": "code",
   "execution_count": 37,
   "metadata": {},
   "outputs": [
    {
     "data": {
      "text/plain": [
       "123"
      ]
     },
     "execution_count": 37,
     "metadata": {},
     "output_type": "execute_result"
    }
   ],
   "source": [
    "# built-in function\n",
    "num = -123\n",
    "abs(num)"
   ]
  },
  {
   "cell_type": "code",
   "execution_count": 38,
   "metadata": {},
   "outputs": [
    {
     "name": "stdout",
     "output_type": "stream",
     "text": [
      "Absolute value of -20 is: 20\n"
     ]
    }
   ],
   "source": [
    "integer = -20\n",
    "print('Absolute value of -20 is:', abs(integer))"
   ]
  },
  {
   "cell_type": "code",
   "execution_count": 39,
   "metadata": {},
   "outputs": [
    {
     "name": "stdout",
     "output_type": "stream",
     "text": [
      "Absolute value of -20 is: 20\n"
     ]
    }
   ],
   "source": [
    "int = -20\n",
    "print('Absolute value of -20 is:', abs(int))"
   ]
  },
  {
   "cell_type": "code",
   "execution_count": 40,
   "metadata": {},
   "outputs": [
    {
     "name": "stdout",
     "output_type": "stream",
     "text": [
      "Absolute value of -30.33 is: 30.33\n"
     ]
    }
   ],
   "source": [
    "float = -30.33\n",
    "print('Absolute value of -30.33 is:', abs(float))"
   ]
  },
  {
   "cell_type": "code",
   "execution_count": 41,
   "metadata": {},
   "outputs": [
    {
     "name": "stdout",
     "output_type": "stream",
     "text": [
      "ans is True\n"
     ]
    }
   ],
   "source": [
    "value = 123\n",
    "print('ans is',bool([value]))"
   ]
  },
  {
   "cell_type": "code",
   "execution_count": 42,
   "metadata": {},
   "outputs": [
    {
     "name": "stdout",
     "output_type": "stream",
     "text": [
      "[] is False\n"
     ]
    }
   ],
   "source": [
    "test = []\n",
    "print(test,'is',bool(test))"
   ]
  },
  {
   "cell_type": "code",
   "execution_count": 43,
   "metadata": {},
   "outputs": [
    {
     "name": "stdout",
     "output_type": "stream",
     "text": [
      "[0] is True\n"
     ]
    }
   ],
   "source": [
    "test = [0]\n",
    "print(test,'is',bool(test))"
   ]
  },
  {
   "cell_type": "code",
   "execution_count": 44,
   "metadata": {},
   "outputs": [
    {
     "name": "stdout",
     "output_type": "stream",
     "text": [
      "0.0 is False\n"
     ]
    }
   ],
   "source": [
    "test = 0.0\n",
    "print(test,'is',bool(test))"
   ]
  },
  {
   "cell_type": "code",
   "execution_count": 45,
   "metadata": {},
   "outputs": [
    {
     "name": "stdout",
     "output_type": "stream",
     "text": [
      "None is False\n"
     ]
    }
   ],
   "source": [
    "test = None\n",
    "print(test,'is',bool(test))"
   ]
  },
  {
   "cell_type": "code",
   "execution_count": 46,
   "metadata": {},
   "outputs": [
    {
     "name": "stdout",
     "output_type": "stream",
     "text": [
      "True is True\n"
     ]
    }
   ],
   "source": [
    "test = True\n",
    "print(test,'is',bool(test))"
   ]
  },
  {
   "cell_type": "code",
   "execution_count": 47,
   "metadata": {},
   "outputs": [
    {
     "name": "stdout",
     "output_type": "stream",
     "text": [
      "Easy string is True\n"
     ]
    }
   ],
   "source": [
    "test = 'Easy string'\n",
    "print(test,'is',bool(test))"
   ]
  },
  {
   "cell_type": "code",
   "execution_count": 48,
   "metadata": {},
   "outputs": [
    {
     "name": "stdout",
     "output_type": "stream",
     "text": [
      "statement is True\n"
     ]
    }
   ],
   "source": [
    "check = 'statement'\n",
    "print(check, 'is',bool(check))"
   ]
  },
  {
   "cell_type": "code",
   "execution_count": 49,
   "metadata": {},
   "outputs": [
    {
     "name": "stdout",
     "output_type": "stream",
     "text": [
      "False is False\n"
     ]
    }
   ],
   "source": [
    "check = False\n",
    "print(check, 'is',bool(check))"
   ]
  },
  {
   "cell_type": "code",
   "execution_count": 50,
   "metadata": {},
   "outputs": [
    {
     "name": "stdout",
     "output_type": "stream",
     "text": [
      "None is False\n"
     ]
    }
   ],
   "source": [
    "check = None\n",
    "print(check, 'is',bool(check))"
   ]
  },
  {
   "cell_type": "code",
   "execution_count": 51,
   "metadata": {},
   "outputs": [
    {
     "name": "stdout",
     "output_type": "stream",
     "text": [
      "{} is False\n"
     ]
    }
   ],
   "source": [
    "check = {}\n",
    "print(check, 'is',bool(check))"
   ]
  },
  {
   "cell_type": "code",
   "execution_count": 52,
   "metadata": {},
   "outputs": [
    {
     "name": "stdout",
     "output_type": "stream",
     "text": [
      "0j is False\n"
     ]
    }
   ],
   "source": [
    "check = 0j\n",
    "print(check, 'is',bool(check))"
   ]
  },
  {
   "cell_type": "code",
   "execution_count": 53,
   "metadata": {},
   "outputs": [
    {
     "data": {
      "text/plain": [
       "['__add__',\n",
       " '__class__',\n",
       " '__contains__',\n",
       " '__delattr__',\n",
       " '__delitem__',\n",
       " '__dir__',\n",
       " '__doc__',\n",
       " '__eq__',\n",
       " '__format__',\n",
       " '__ge__',\n",
       " '__getattribute__',\n",
       " '__getitem__',\n",
       " '__gt__',\n",
       " '__hash__',\n",
       " '__iadd__',\n",
       " '__imul__',\n",
       " '__init__',\n",
       " '__init_subclass__',\n",
       " '__iter__',\n",
       " '__le__',\n",
       " '__len__',\n",
       " '__lt__',\n",
       " '__mul__',\n",
       " '__ne__',\n",
       " '__new__',\n",
       " '__reduce__',\n",
       " '__reduce_ex__',\n",
       " '__repr__',\n",
       " '__reversed__',\n",
       " '__rmul__',\n",
       " '__setattr__',\n",
       " '__setitem__',\n",
       " '__sizeof__',\n",
       " '__str__',\n",
       " '__subclasshook__',\n",
       " 'append',\n",
       " 'clear',\n",
       " 'copy',\n",
       " 'count',\n",
       " 'extend',\n",
       " 'index',\n",
       " 'insert',\n",
       " 'pop',\n",
       " 'remove',\n",
       " 'reverse',\n",
       " 'sort']"
      ]
     },
     "execution_count": 53,
     "metadata": {},
     "output_type": "execute_result"
    }
   ],
   "source": [
    "dir([object])"
   ]
  },
  {
   "cell_type": "code",
   "execution_count": 54,
   "metadata": {},
   "outputs": [
    {
     "name": "stdout",
     "output_type": "stream",
     "text": [
      "['__add__', '__class__', '__contains__', '__delattr__', '__delitem__', '__dir__', '__doc__', '__eq__', '__format__', '__ge__', '__getattribute__', '__getitem__', '__gt__', '__hash__', '__iadd__', '__imul__', '__init__', '__init_subclass__', '__iter__', '__le__', '__len__', '__lt__', '__mul__', '__ne__', '__new__', '__reduce__', '__reduce_ex__', '__repr__', '__reversed__', '__rmul__', '__setattr__', '__setitem__', '__sizeof__', '__str__', '__subclasshook__', 'append', 'clear', 'copy', 'count', 'extend', 'index', 'insert', 'pop', 'remove', 'reverse', 'sort']\n",
      "\n",
      "Return Value from empty dir()\n",
      "['In', 'Out', '_', '_37', '_53', '__', '___', '__builtin__', '__builtins__', '__doc__', '__loader__', '__name__', '__package__', '__spec__', '_dh', '_i', '_i1', '_i10', '_i11', '_i12', '_i13', '_i14', '_i15', '_i16', '_i17', '_i18', '_i19', '_i2', '_i20', '_i21', '_i22', '_i23', '_i24', '_i25', '_i26', '_i27', '_i28', '_i29', '_i3', '_i30', '_i31', '_i32', '_i33', '_i34', '_i35', '_i36', '_i37', '_i38', '_i39', '_i4', '_i40', '_i41', '_i42', '_i43', '_i44', '_i45', '_i46', '_i47', '_i48', '_i49', '_i5', '_i50', '_i51', '_i52', '_i53', '_i54', '_i6', '_i7', '_i8', '_i9', '_ih', '_ii', '_iii', '_oh', 'age', 'calipha', 'check', 'exit', 'float', 'get_ipython', 'hair_color', 'hello', 'hugehairypants', 'i', 'int', 'integer', 'j', 'list', 'myval', 'n', 'num', 'number', 'quit', 'test', 'value', 'wizard_list', 'x', 'y']\n"
     ]
    }
   ],
   "source": [
    "number = [1, 2, 3]\n",
    "print(dir(number))\n",
    "print('\\nReturn Value from empty dir()')\n",
    "print(dir())"
   ]
  },
  {
   "cell_type": "code",
   "execution_count": 55,
   "metadata": {},
   "outputs": [
    {
     "name": "stdout",
     "output_type": "stream",
     "text": [
      "20\n"
     ]
    }
   ],
   "source": [
    "integer = -20\n",
    "print(abs(integer))"
   ]
  },
  {
   "cell_type": "code",
   "execution_count": 56,
   "metadata": {},
   "outputs": [
    {
     "name": "stdout",
     "output_type": "stream",
     "text": [
      "[] is False\n",
      "[0] is True\n",
      "0.0 is False\n"
     ]
    }
   ],
   "source": [
    "test = []\n",
    "print(test,'is',bool(test))\n",
    "test = [0]\n",
    "print(test,'is',bool(test))\n",
    "test = 0.0\n",
    "print(test,'is',bool(test))"
   ]
  },
  {
   "cell_type": "code",
   "execution_count": 57,
   "metadata": {},
   "outputs": [
    {
     "name": "stdout",
     "output_type": "stream",
     "text": [
      "['In', 'Out', '_', '_37', '_53', '__', '___', '__builtin__', '__builtins__', '__doc__', '__loader__', '__name__', '__package__', '__spec__', '_dh', '_i', '_i1', '_i10', '_i11', '_i12', '_i13', '_i14', '_i15', '_i16', '_i17', '_i18', '_i19', '_i2', '_i20', '_i21', '_i22', '_i23', '_i24', '_i25', '_i26', '_i27', '_i28', '_i29', '_i3', '_i30', '_i31', '_i32', '_i33', '_i34', '_i35', '_i36', '_i37', '_i38', '_i39', '_i4', '_i40', '_i41', '_i42', '_i43', '_i44', '_i45', '_i46', '_i47', '_i48', '_i49', '_i5', '_i50', '_i51', '_i52', '_i53', '_i54', '_i55', '_i56', '_i57', '_i6', '_i7', '_i8', '_i9', '_ih', '_ii', '_iii', '_oh', 'age', 'calipha', 'check', 'exit', 'float', 'get_ipython', 'hair_color', 'hello', 'hugehairypants', 'i', 'int', 'integer', 'j', 'list', 'myval', 'n', 'num', 'number', 'quit', 'test', 'value', 'wizard_list', 'x', 'y']\n"
     ]
    }
   ],
   "source": [
    "print(dir())"
   ]
  },
  {
   "cell_type": "code",
   "execution_count": 74,
   "metadata": {},
   "outputs": [],
   "source": [
    "print = ('\\nReturn Value from windows dir(C:windows)')"
   ]
  },
  {
   "cell_type": "code",
   "execution_count": null,
   "metadata": {},
   "outputs": [],
   "source": [
    "print = ('\\nReturn Value from empty dir()')"
   ]
  },
  {
   "cell_type": "code",
   "execution_count": null,
   "metadata": {},
   "outputs": [],
   "source": []
  }
 ],
 "metadata": {
  "kernelspec": {
   "display_name": "Python 3",
   "language": "python",
   "name": "python3"
  },
  "language_info": {
   "codemirror_mode": {
    "name": "ipython",
    "version": 3
   },
   "file_extension": ".py",
   "mimetype": "text/x-python",
   "name": "python",
   "nbconvert_exporter": "python",
   "pygments_lexer": "ipython3",
   "version": "3.7.6"
  }
 },
 "nbformat": 4,
 "nbformat_minor": 4
}
